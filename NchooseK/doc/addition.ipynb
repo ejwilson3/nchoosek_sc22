{
 "cells": [
  {
   "cell_type": "markdown",
   "metadata": {},
   "source": [
    "# Adding two numbers with NchooseK"
   ]
  },
  {
   "cell_type": "markdown",
   "metadata": {},
   "source": [
    "The NchooseK programming model works best with Boolean values.  However, because any non-negative integer can be represented by a sequences of Booleans, it is possible, albeit awkward, to use NchooseK to add numbers.  This tutorial shows how.\n",
    "\n",
    "We start by importing the `nchoosek` package and its `z3` solver.  Feel free to change `z3` to `ocean` to run on a D-Wave quantum annealer (assuming you have an account and have locally configured D-Wave Ocean)."
   ]
  },
  {
   "cell_type": "code",
   "execution_count": 1,
   "metadata": {},
   "outputs": [],
   "source": [
    "import nchoosek\n",
    "from nchoosek.solve import z3"
   ]
  },
  {
   "cell_type": "markdown",
   "metadata": {},
   "source": [
    "We need to choose two numbers to add and specify a sufficient number of bits to represent each number.  Let's add 2 + 3, which requires two bits (10<sub>B</sub> + 11<sub>B</sub>).  We will be computing the sum with one additional bit."
   ]
  },
  {
   "cell_type": "code",
   "execution_count": 2,
   "metadata": {},
   "outputs": [],
   "source": [
    "num1 = 2\n",
    "num2 = 3\n",
    "nbits = 2"
   ]
  },
  {
   "cell_type": "markdown",
   "metadata": {},
   "source": [
    "Every NchooseK program needs an \"environment\" in which to work.  (A program can employ more than one environment, but this is rarely needed.)  An environment is created by instantiating the `Environment` class: "
   ]
  },
  {
   "cell_type": "code",
   "execution_count": 3,
   "metadata": {},
   "outputs": [],
   "source": [
    "env = nchoosek.Environment()"
   ]
  },
  {
   "attachments": {
    "full-adder-nck.svg": {
     "image/svg+xml": [
      "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"
     ]
    }
   },
   "cell_type": "markdown",
   "metadata": {},
   "source": [
    "The core piece of our addition program will be a <a href=\"https://en.wikipedia.org/wiki/Adder_(electronics)#Full_adder\">full adder</a>.  A full adder inputs three bits—two single-bit values and a carry from a previous sum—and outputs two bits—a sum and a carry.  Full adders can be chained together to add multi-bit numbers in much the same way that one would add multi-digit decimal numbers with pencil and paper.\n",
    "\n",
    "But how can we express a full adder using NchooseK?  The `tt2nck` helper program that comes with NchooseK can express any truth table as an NchooseK primitive.  Here's the truth table for a full adder, in which the columns represent, respectively, {carry in, A, B, carry out, sum}:\n",
    "```\n",
    "0 0 0 0 0\n",
    "0 0 1 0 1\n",
    "0 1 0 0 1\n",
    "0 1 1 1 0\n",
    "1 0 0 0 1\n",
    "1 0 1 1 0\n",
    "1 1 0 1 0\n",
    "1 1 1 1 1\n",
    "```\n",
    "\n",
    "Save that to a file, say `full-adder.tt`, and run `tt2nck` on it:\n",
    "```\n",
    "$ tt2nck --compress full-adder.tt \n",
    "nck([A, B, C, D*2, E*3], {0, 4, 8})\n",
    "```\n",
    "(The `$` represents the shell prompt; don't type that.)\n",
    "\n",
    "Here's an illustration of the preceding NchooseK primitive, with A–E replaced with more meaningful names:\n",
    "\n",
    "![NchooseK full adder](attachment:full-adder-nck.svg)\n",
    "\n",
    "You can verify that the primitive corresponds exactly to the rows of the full-adder truth table shown above.  For example, adding 1 + 1 with a carry in of 0 to produce 0 and a carry out of 1 (i.e., 0 + 1 + 1 = 2) corresponds to the row `0 1 1 1 0`.  This expands to {0, 1, 1, 1, 1, 0, 0, 0} when C<sub>out</sub> is repeated twice and ∑ is repeated three times.  The total number of 1 bits is four, and this is indeed one of the valid values of *k*.  In contrast, the invalid row `1 0 1 0 1` (1 + 0 + 1 = 1) expands to {1, 0, 1, 0, 0, 1, 1, 1}.  This contains five 1 bits, which is not one of the valid values of *k*.\n",
    "\n",
    "To express the NchooseK full adder in Python we define a new NchooseK primitive type.  This will enable the primitive to be instantiated repeatedly.  The following type, called `adder` internally and referred to by the Python variable `Adder`, adds `carry-in`, `A`, and `B` and produces the two-bit value `C1` (high bit) and `C0` (low bit).  Note the nifty Python 3 shortcut for repeating `C1` twice and `C0` three times."
   ]
  },
  {
   "cell_type": "code",
   "execution_count": 4,
   "metadata": {},
   "outputs": [],
   "source": [
    "Adder = env.new_type('adder',\n",
    "                     ['carry-in', 'A', 'B', 'C1', 'C0'],\n",
    "                     nchoosek.Constraint(['carry-in', 'A', 'B', *2*['C1'], *3*['C0']], {0, 4, 8}))"
   ]
  },
  {
   "cell_type": "markdown",
   "metadata": {},
   "source": [
    "NchooseK works with named \"ports\" rather than directly with variables.  We declare one port per input bit (maintained in `a` and `b` arrays), one per output bit (`c` array), and one per carry-out bit (`cout` array)."
   ]
  },
  {
   "cell_type": "code",
   "execution_count": 5,
   "metadata": {},
   "outputs": [],
   "source": [
    "a = [env.register_port('A%d' % i) for i in range(nbits)]\n",
    "b = [env.register_port('B%d' % i) for i in range(nbits)]\n",
    "c = [env.register_port('C%d' % i) for i in range(nbits + 1)]\n",
    "cout = [env.register_port('cout%d' % i) for i in range(nbits)]"
   ]
  },
  {
   "cell_type": "markdown",
   "metadata": {},
   "source": [
    "For each bit of `num1`, we constrain the corresponding element of `a` to have the same value and likewise for `num2` and `b`.  To constrain some variable `x` to True, we require that one out of one of the variables in a list containing only `x` must be True.  To constrain `x` to False, we require that zero out of one of the variables in a list containing only `x` must be True."
   ]
  },
  {
   "cell_type": "code",
   "execution_count": 6,
   "metadata": {},
   "outputs": [],
   "source": [
    "for i in range(nbits):\n",
    "    env.nck([a[i]], {(num1>>i)&1})\n",
    "    env.nck([b[i]], {(num2>>i)&1})"
   ]
  },
  {
   "cell_type": "markdown",
   "metadata": {},
   "source": [
    "The same approach lets us define a variable `always_false` that will be used for the initial carry in."
   ]
  },
  {
   "cell_type": "code",
   "execution_count": 7,
   "metadata": {},
   "outputs": [],
   "source": [
    "always_false = env.register_port('false')\n",
    "env.nck([always_false], {0})"
   ]
  },
  {
   "cell_type": "markdown",
   "metadata": {},
   "source": [
    "Each carry in is the previous carry out, with the first carry in being hard-wired to False.  We could define a new set of carry-in variables and constrain them to be equal to the associated carry out.  However, we will instead simply alias them in Python.  That is, our `cin` array will point to the same ports as our `cout` array, offset by one position."
   ]
  },
  {
   "cell_type": "code",
   "execution_count": 8,
   "metadata": {},
   "outputs": [],
   "source": [
    "cin = [always_false] + cout"
   ]
  },
  {
   "cell_type": "markdown",
   "metadata": {},
   "source": [
    "It's finally time to connect all of the pieces created above!  The plan is to instantiate one `Adder` for each of the `nbits` bits we intend to add.\n",
    "\n",
    "<table style=\"border: none\">\n",
    "    <tr>\n",
    "        <td></td>\n",
    "        <td></td>\n",
    "        <td>cin<sub>N−1</sub></td>\n",
    "        <td>⋯</td>\n",
    "        <td>cin<sub>2</sub></td>\n",
    "        <td>cin<sub>1</sub></td>\n",
    "        <td style=\"border-style: dotted dotted none dotted; border-color: blue; border-width: medium\">cin<sub>0</sub></td>\n",
    "    </tr>\n",
    "    <tr>\n",
    "        <td></td>\n",
    "        <td></td>\n",
    "        <td>A<sub>N−1</sub></td>\n",
    "        <td>⋯</td>\n",
    "        <td>A<sub>2</sub></td>\n",
    "        <td>A<sub>1</sub></td>\n",
    "        <td style=\"border-style: none dotted none dotted; border-color: blue; border-width: medium\">A<sub>0</sub></td>\n",
    "    </tr>\n",
    "    <tr style=\"border-bottom: medium solid black\">\n",
    "        <td>+</td>\n",
    "        <td></td>\n",
    "        <td>B<sub>N−1</sub></td>\n",
    "        <td>⋯</td>\n",
    "        <td>B<sub>2</sub></td>\n",
    "        <td>B<sub>1</sub></td>\n",
    "        <td style=\"border-style: none dotted none dotted; border-color: blue; border-width: medium\">B<sub>0</sub></td>\n",
    "    </tr>\n",
    "    <tr>\n",
    "        <td></td>\n",
    "        <td>C<sub>N</sub></td>\n",
    "        <td>C<sub>N−1</sub></td>\n",
    "        <td>⋯</td>\n",
    "        <td>C<sub>2</sub></td>\n",
    "        <td>C<sub>1</sub></td>\n",
    "        <td style=\"border-style: none dotted none dotted; border-color: blue; border-width: medium\">C<sub>0</sub></td>\n",
    "    </tr>\n",
    "    <tr>\n",
    "        <td></td>\n",
    "        <td></td>\n",
    "        <td>cout<sub>N−1</sub></td>\n",
    "        <td>⋯</td>\n",
    "        <td>cout<sub>2</sub></td>\n",
    "        <td>cout<sub>1</sub></td>\n",
    "        <td style=\"border-style: none dotted dotted dotted; border-color: blue; border-width: medium\">cout<sub>0</sub></td>\n",
    "    </tr>\n",
    "</table>\n",
    "\n",
    "Recall that we previous constrained cin<sub>0</sub> to False (0) and cin<sub><i>i</i></sub> to cout<sub><i>i</i>−1</sub>.  In the following code, after we instantiate all of the `Adder`s we additionally constrain C<sub><i>N</i></sub> to cout<sub><i>N</i>−1</sub> (= cin<sub><i>N</i></sub>)."
   ]
  },
  {
   "cell_type": "code",
   "execution_count": 9,
   "metadata": {},
   "outputs": [],
   "source": [
    "for i in range(nbits):\n",
    "    Adder([cin[i], a[i], b[i], cout[i], c[i]])\n",
    "env.same(c[nbits], cout[nbits - 1])"
   ]
  },
  {
   "cell_type": "markdown",
   "metadata": {},
   "source": [
    "Our problem is now completely defined.  It's time to solve for all of the variables."
   ]
  },
  {
   "cell_type": "code",
   "execution_count": 10,
   "metadata": {},
   "outputs": [],
   "source": [
    "soln = z3.solve(env)"
   ]
  },
  {
   "cell_type": "markdown",
   "metadata": {},
   "source": [
    "All port names are now associated with a `bool`.  Let's convert the list of `C` values to a single `int` for more human-friendly output."
   ]
  },
  {
   "cell_type": "code",
   "execution_count": 11,
   "metadata": {},
   "outputs": [
    {
     "name": "stdout",
     "output_type": "stream",
     "text": [
      "2 + 3 = 5\n"
     ]
    }
   ],
   "source": [
    "num3 = 0\n",
    "for i in range(nbits, -1, -1):\n",
    "    num3 <<= 1\n",
    "    num3 += int(soln['C%d' % i])\n",
    "print('%d + %d = %d' % (num1, num2, num3))"
   ]
  },
  {
   "cell_type": "markdown",
   "metadata": {},
   "source": [
    "There you go!  We've demonstrated that it's indeed possible to perform simple integer addition using NchooseK.  Clearly, NchooseK is the wrong tool for performing arithmetic.  However, despite being based on constraints applied to Boolean values, NchooseK is at least capable of carrying out operations that may at first seem impossible.\n",
    "\n",
    "If nothing else, this document lays out an approach to applying NchooseK to a computational problem that can apply to other, more appropriate problems as well:\n",
    "\n",
    "1. Create an NchooseK environment and define one NchooseK port per program variable.\n",
    "\n",
    "2. Use `tt2nck` to help define NchooseK primitives.\n",
    "\n",
    "3. Instantiate the primitives as needed, and associate ports with other ports (e.g., using `same`).\n",
    "\n",
    "4. Solve the set of constraints, and output the results."
   ]
  }
 ],
 "metadata": {
  "kernelspec": {
   "display_name": "Python 3",
   "language": "python",
   "name": "python3"
  },
  "language_info": {
   "codemirror_mode": {
    "name": "ipython",
    "version": 3
   },
   "file_extension": ".py",
   "mimetype": "text/x-python",
   "name": "python",
   "nbconvert_exporter": "python",
   "pygments_lexer": "ipython3",
   "version": "3.8.3"
  }
 },
 "nbformat": 4,
 "nbformat_minor": 4
}
